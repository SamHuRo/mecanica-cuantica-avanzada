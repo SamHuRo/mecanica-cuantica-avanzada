{
 "cells": [
  {
   "cell_type": "markdown",
   "id": "353c5fce",
   "metadata": {},
   "source": [
    "---\n",
    "<center>\n",
    "\n",
    "  # **Matrices en notación de Dirac**\n",
    "\n",
    "---\n",
    "**Realizado Por:**\n",
    "\n",
    "   Samuel Huertas Rojas\n",
    "\n",
    "---\n",
    "</center>"
   ]
  },
  {
   "cell_type": "markdown",
   "id": "950cbfa0",
   "metadata": {},
   "source": []
  }
 ],
 "metadata": {
  "language_info": {
   "name": "python"
  }
 },
 "nbformat": 4,
 "nbformat_minor": 5
}
