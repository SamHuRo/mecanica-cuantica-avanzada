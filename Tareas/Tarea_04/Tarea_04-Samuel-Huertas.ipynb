{
 "cells": [
  {
   "cell_type": "markdown",
   "id": "dee2f665",
   "metadata": {},
   "source": [
    "---\n",
    "<center>\n",
    "\n",
    "  # **Tarea 04**\n",
    "\n",
    "**Realizado Por:**\n",
    "\n",
    "   Samuel Huertas Rojas\n",
    "\n",
    "---\n",
    "</center>"
   ]
  },
  {
   "cell_type": "code",
   "execution_count": 1,
   "id": "c1832b73",
   "metadata": {},
   "outputs": [],
   "source": [
    "# Libreriras a importar\n",
    "import sympy as sp\n",
    "\n",
    "from sympy.physics.hydrogen import Psi_nlm"
   ]
  },
  {
   "cell_type": "markdown",
   "id": "a1ccf5f7",
   "metadata": {},
   "source": [
    "A partir de $\\psi_{nlm}(r, \\theta, \\varphi)$ y de los valores medios del Hamiltoniano. Calcular las lineas epsectrales de las series de Lyman, Balmer, Pascher y Brackett."
   ]
  },
  {
   "cell_type": "markdown",
   "id": "8568e44e",
   "metadata": {},
   "source": [
    "Tenemos que para el átomo de hidorgeno el Hamiltoniano se define como: \n",
    "\n",
    "<center>\n",
    "\n",
    "$\\hat{H} = - \\frac{\\hbar^2}{2 \\mu} (\\frac{\\partial^2}{\\partial r^2} + \\frac{2}{r}\\frac{\\partial}{\\partial r}) + \\frac{1}{2 \\mu r^2} \\hat{L}^2 + V(r) $\n",
    "\n",
    "</center>\n",
    "\n",
    "Con $V(r) = -\\frac{1}{4 \\pi \\epsilon_0} \\frac{e^2}{r}$\n",
    "\n",
    "Obtenemos que los autoestados para el átomo de hidrogeno van a estar dados por:\n",
    "\n",
    "<center>\n",
    "\n",
    "$ \\Psi_{n\\ell m}(r, \\theta, \\varphi) = R_{n\\ell }(r) Y_{\\ell }^{m}(\\theta, \\varphi) $\n",
    "\n",
    "</center>"
   ]
  },
  {
   "cell_type": "markdown",
   "id": "135ea1b9",
   "metadata": {},
   "source": [
    "Tenemos que la función $R_{nl}(r)$ va a estar compuesta por los polinomios de Laguerre:\n",
    "\n",
    "<center>\n",
    "\n",
    "$ R_{n\\ell}(r) = \\left[ \\frac{(n - \\ell - 1)!}{2n (n + \\ell)!}\\right]^{1/2} \\left( \\frac{2 Z r}{n} \\right)^{\\ell + \\frac{3}{2}} r^{\\ell} e^{- \\frac{Z r \\mu}{n}} L_{n - \\ell - 1}^{2\\ell + 1} \\left( \\frac{2 Z r}{n} \\right) $\n",
    "\n",
    "</center>\n",
    "\n",
    "Realizando el cambio de variable: \n",
    "\n",
    "* $ \\rho = \\frac{2 r}{n a_0} $\n",
    "* $ a_0 = \\frac{4 \\pi \\epsilon_0 \\hbar^2}{\\mu e^2} $: es el radio de Bohr\n",
    "\n",
    "Nos queda que: \n",
    "\n",
    "<center>\n",
    "\n",
    "$ R_{n\\ell}(r) = \\left[  \\left( \\frac{2}{n a_0} \\right)^3 \\frac{(n - \\ell - 1)!}{2n (n + \\ell)!}\\right]^{1/2} \\rho^{\\ell} e^{- \\frac{\\rho}{2}} L_{n - \\ell - 1}^{2\\ell + 1} \\left( \\rho\\right) $\n",
    "\n",
    "</center>"
   ]
  },
  {
   "cell_type": "markdown",
   "id": "6dca4af0",
   "metadata": {},
   "source": [
    "Tenemos que $Y_{\\ell }^{m}(\\theta, \\varphi) $ son los armonicos esféricos "
   ]
  },
  {
   "cell_type": "code",
   "execution_count": 2,
   "id": "4f3a36a6",
   "metadata": {},
   "outputs": [],
   "source": [
    "# Definición de las constantes en el sistema de unidades atomicas\n",
    "mu = 1  # masa reducida\n",
    "hbar = 1  # constante de Planck reducida\n",
    "e = 1  # carga del electron\n",
    "a0 = 1  # radio de Bohr"
   ]
  },
  {
   "cell_type": "code",
   "execution_count": 3,
   "id": "bf4848bd",
   "metadata": {},
   "outputs": [],
   "source": [
    "# Definición de los simbolos a utilizar en las coordenadas esfericas\n",
    "r, theta, phi = sp.symbols(\"r theta phi\", real=True)"
   ]
  },
  {
   "cell_type": "markdown",
   "id": "c6c6c640",
   "metadata": {},
   "source": [
    "### Definición de los operadores del momento angular"
   ]
  },
  {
   "cell_type": "markdown",
   "id": "2a29e9c6",
   "metadata": {},
   "source": [
    "Se van a definir los operadores del momento angular en coordenadas esfericas, las cuales van a estar dadas por:\n",
    "\n",
    "*  $\\hat{L}_x = i \\hbar (\\sin \\varphi \\frac{\\partial}{\\partial \\theta} + \\cot \\theta \\cos \\varphi \\frac{\\partial}{\\partial \\varphi})$\n",
    "\n",
    "*  $\\hat{L}_y = -i \\hbar (\\cos \\varphi \\frac{\\partial}{\\partial \\theta} + \\cot \\theta \\sin \\varphi \\frac{\\partial}{\\partial \\varphi})$\n",
    "\n",
    "*  $\\hat{L}_z = i \\hbar \\frac{\\partial}{\\partial \\varphi}$\n",
    "\n",
    "*  $\\hat{L}_y = -\\hbar^2 (\\frac{\\partial^2}{\\partial \\theta^2} + \\cot \\theta \\frac{\\partial}{\\partial \\theta} + \\frac{1}{\\sin^2 \\theta}\\frac{\\partial^2}{\\partial \\varphi^2}) = -\\hbar^2 (\\frac{1}{\\sin \\theta} \\frac{\\partial}{\\partial \\theta}(\\sin \\theta \\frac{\\partial}{\\partial \\theta}) + \\frac{1}{\\sin^2 \\theta}\\frac{\\partial^2}{\\partial \\varphi^2})$"
   ]
  },
  {
   "cell_type": "code",
   "execution_count": 4,
   "id": "e2e693fc",
   "metadata": {},
   "outputs": [],
   "source": [
    "# Definición de los operadores del momento angular\n",
    "def Lx(f):\n",
    "    return (\n",
    "        1j\n",
    "        * hbar\n",
    "        * (\n",
    "            sp.sin(phi) * sp.diff(f, theta)\n",
    "            + sp.cot(theta) * sp.cos(phi) * sp.diff(f, phi)\n",
    "        )\n",
    "    )\n",
    "\n",
    "\n",
    "def Ly(f):\n",
    "    return (\n",
    "        1j\n",
    "        * hbar\n",
    "        * (\n",
    "            -sp.cos(phi) * sp.diff(f, theta)\n",
    "            + sp.cot(theta) * sp.sin(phi) * sp.diff(f, phi)\n",
    "        )\n",
    "    )\n",
    "\n",
    "\n",
    "def Lz(f):\n",
    "    return -1j * hbar * sp.diff(f, phi)\n",
    "\n",
    "\n",
    "def L2(f):\n",
    "    return sp.simplify(\n",
    "        -(hbar**2)\n",
    "        * (\n",
    "            1 / sp.sin(theta) * sp.diff(sp.sin(theta) * sp.diff(f, theta), theta)\n",
    "            + 1 / sp.sin(theta) ** 2 * sp.diff(f, phi, 2)\n",
    "        )\n",
    "    )\n"
   ]
  },
  {
   "cell_type": "markdown",
   "id": "ebf47609",
   "metadata": {},
   "source": [
    "### Definición del Hamiltoniano"
   ]
  },
  {
   "cell_type": "markdown",
   "id": "fe7a6777",
   "metadata": {},
   "source": [
    "Definimos al Hamiltoniano como: \n",
    "\n",
    "<center>\n",
    "\n",
    "$ \\hat{H} = - \\frac{\\hbar^2}{2 \\mu} (\\frac{\\partial^{2}}{\\partial r^2} + \\frac{2}{r} \\frac{\\partial}{\\partial r}) + \\frac{1}{2 \\mu r^2} \\hat{L}^2 + V(r)$\n",
    "\n",
    "</center>"
   ]
  },
  {
   "cell_type": "code",
   "execution_count": 5,
   "id": "bbfd7323",
   "metadata": {},
   "outputs": [],
   "source": [
    "def Hamiltoniano(f):\n",
    "    return (\n",
    "        -(hbar**2) / (2 * mu) * (1 / r) * sp.diff(r * f, r, 2)  # Termino cinetico \n",
    "        + 1 / (2 * mu * r**2) * L2(f)                           # Termino del momento angular\n",
    "        - e**2 / r * f                                          # Potencial\n",
    "    )"
   ]
  },
  {
   "cell_type": "markdown",
   "id": "fecbe3a1",
   "metadata": {},
   "source": [
    "## Calculo de la energía de los fotonos"
   ]
  },
  {
   "cell_type": "markdown",
   "id": "514487e5",
   "metadata": {},
   "source": [
    "Sabemos que las energías permitidas para la absorción o emisión de fotones en un átomo de hidrogeno van a estar dadas por: \n",
    "\n",
    "<center>\n",
    "\n",
    "$ \\Delta E = \\hbar \\omega = h \\nu = \\frac{h c}{\\lambda}$\n",
    "\n",
    "</center>"
   ]
  },
  {
   "cell_type": "markdown",
   "id": "64e74b86",
   "metadata": {},
   "source": [
    " Con lo que las longitudes de ondas permitidas para la emisión y absorción para el átomo de hidrogeno van a ser:  \n",
    "\n",
    "\n",
    "<center>\n",
    "\n",
    "$ \\lambda = \\frac{h c}{\\Delta E}$\n",
    "\n",
    "</center>"
   ]
  },
  {
   "cell_type": "markdown",
   "id": "8056abdc",
   "metadata": {},
   "source": [
    "### Energías permitidas del átomo de hidrogeno"
   ]
  },
  {
   "cell_type": "markdown",
   "id": "a4b35285",
   "metadata": {},
   "source": [
    "Para realizar el cálculo de las energías permitidas en el átomo de hidrogeno, tenemos que recordar que estas van a estar dadas por la diagonalización de la matriz del Hamiltoniano, pero al calcular dicha matriz con sus auto funciones (eigenfunciones, auto vectores) se obtienen directamente dichos valores.  \n",
    "\n",
    "<center>\n",
    "\n",
    "$ E_{nlm} = \\braket{nlm | \\hat{H} | nlm} $\n",
    "\n",
    "</center>"
   ]
  },
  {
   "cell_type": "markdown",
   "id": "fa7aa92e",
   "metadata": {},
   "source": [
    "$$ E_{nlm} = \\int_{0}^{2\\pi} \\int_{0}^{\\pi} \\int_{0}^{\\infty} \\Psi_{n l m}^{*}(r, \\theta, \\varphi)\\hat{\\mathcal{H}}\\Psi_{n l m}(r, \\theta, \\varphi)  r^{2} \\sin(\\theta) \\text{d}r  \\text{d}\\varphi \\text{d}\\theta $$"
   ]
  },
  {
   "cell_type": "code",
   "execution_count": 6,
   "id": "c9e0db67",
   "metadata": {},
   "outputs": [],
   "source": [
    "def Enlm (n, l = 0, m=0):  # noqa: E741\n",
    "    # Definición de la función de onda del átomo de hidrogeno\n",
    "    Psi_nlm_expr = Psi_nlm(n, l, m, r, theta, phi).expand(func=True)\n",
    "\n",
    "    # Cálculo del Hamiltoniano actuando sobre la función de onda\n",
    "    H_Psi = Hamiltoniano(Psi_nlm_expr)\n",
    "\n",
    "    # Cálculo de la energía esperada\n",
    "    integrand = sp.conjugate(Psi_nlm_expr) * H_Psi * r**2 * sp.sin(theta)\n",
    "    energy = sp.integrate(\n",
    "        sp.integrate(\n",
    "            sp.integrate(integrand, (r, 0, sp.oo)),\n",
    "            (theta, 0, sp.pi)\n",
    "        ),\n",
    "        (phi, 0, 2 * sp.pi)\n",
    "    )\n",
    "\n",
    "    return sp.simplify(energy)"
   ]
  },
  {
   "cell_type": "code",
   "execution_count": 7,
   "id": "7ed58c4c",
   "metadata": {},
   "outputs": [
    {
     "name": "stdout",
     "output_type": "stream",
     "text": [
      "Energías permitidas para los primeros 10 niveles del átomo de hidrógeno:\n",
      "-------------------------------------------------------------\n",
      "Nivel n \t| Energía (a.u.)\n",
      "E_1  \t\t -0.5000\n",
      "E_2  \t\t -0.1250\n",
      "E_3  \t\t -0.0556\n",
      "E_4  \t\t -0.0313\n",
      "E_5  \t\t -0.0200\n",
      "E_6  \t\t -0.0139\n",
      "E_7  \t\t -0.0102\n",
      "E_8  \t\t -0.0078\n",
      "E_9  \t\t -0.0062\n",
      "E_10  \t\t -0.0050\n"
     ]
    }
   ],
   "source": [
    "# Mostarar las energías permitidas para los primeros 10 niveles\n",
    "print(\"Energías permitidas para los primeros 10 niveles del átomo de hidrógeno:\")\n",
    "print(\"-------------------------------------------------------------\")\n",
    "print(\"Nivel n \\t| Energía (a.u.)\")\n",
    "for n in range(1, 11):\n",
    "    energy = Enlm(n)\n",
    "    print(f\"E_{n}  \\t\\t {energy:.4f}\")"
   ]
  },
  {
   "cell_type": "code",
   "execution_count": 8,
   "id": "7bf6fba8",
   "metadata": {},
   "outputs": [
    {
     "name": "stdout",
     "output_type": "stream",
     "text": [
      "Energías permitidas para los primeros 10 niveles del átomo de hidrógeno:\n",
      "-------------------------------------------------------------\n",
      "Nivel n \t| Energía (Jouls)\n",
      "E_1  \t\t -2.1799e-18\n",
      "E_2  \t\t -5.4497e-19\n",
      "E_3  \t\t -2.4221e-19\n",
      "E_4  \t\t -1.3624e-19\n",
      "E_5  \t\t -8.7195e-20\n",
      "E_6  \t\t -6.0552e-20\n",
      "E_7  \t\t -4.4487e-20\n",
      "E_8  \t\t -3.4060e-20\n",
      "E_9  \t\t -2.6912e-20\n",
      "E_10  \t\t -2.1799e-20\n"
     ]
    }
   ],
   "source": [
    "# Valor medido de la energia en Jouls\n",
    "hartee2jouls= 4.35974e-18\n",
    "print(\"Energías permitidas para los primeros 10 niveles del átomo de hidrógeno:\")\n",
    "print(\"-------------------------------------------------------------\")\n",
    "print(\"Nivel n \\t| Energía (Jouls)\")\n",
    "for n in range(1, 11):\n",
    "    energy = Enlm(n)\n",
    "    print(f\"E_{n}  \\t\\t {energy * hartee2jouls:.4e}\")\n"
   ]
  },
  {
   "cell_type": "code",
   "execution_count": 14,
   "id": "60f2cbba",
   "metadata": {},
   "outputs": [
    {
     "name": "stdout",
     "output_type": "stream",
     "text": [
      "Serie de Lyman\n",
      "\n",
      "Longitudes de onda permitidas para las transiciones entre los primeros 4 niveles del átomo de Hidogeno:\n",
      "-------------------------------------------------------------\n",
      "Transición (n1 -> n2) \t| Longitud de onda (m)\n",
      "2 -> 1 \t\t\t 121.59 nm\n",
      "3 -> 1 \t\t\t 102.59 nm\n",
      "4 -> 1 \t\t\t 97.27 nm\n"
     ]
    }
   ],
   "source": [
    "# Función para encontrar las longitudes de onda permitidas\n",
    "def longitudes_de_onda(n1, n2):\n",
    "    # Cálculo de las energías para los niveles n1 y n2\n",
    "    E1 = Enlm(n1)\n",
    "    E2 = Enlm(n2)\n",
    "\n",
    "    # Cálculo de la diferencia de energía\n",
    "    delta_E = abs(E2 - E1)\n",
    "\n",
    "    # Cálculo de la longitud de onda permitida\n",
    "    h =  6.626070150e-34                                    # Constante de Planck [Js]\n",
    "    c = 3e8                                                 # Velocidad de la luz en unidades atómicas [m/s]\n",
    "    lambda_permitida = h * c / (delta_E * hartee2jouls)     # Convertir a Joules\n",
    "\n",
    "    return lambda_permitida\n",
    "\n",
    "# Función para encontrar las series espectrales\n",
    "def series_espectrales(n_base, n_max):\n",
    "    series = {}\n",
    "    n1 = n_base\n",
    "    for n2 in range(n1 + 1, n_max + 1):\n",
    "        lambda_permitida = longitudes_de_onda(n1, n2)\n",
    "        series[(n1, n2)] = lambda_permitida\n",
    "    return series\n",
    "\n",
    "# Ejemplo de uso: encontrar las longitudes de onda permitidas para las transiciones entre los primeros 5 niveles\n",
    "m2nm = 1e9  # metros a nanometros\n",
    "n_max = 4\n",
    "\n",
    "nombre_seria = \"Lyman\"  # Cambiar a \"Balmer\" o \"Paschen\" para otras series\n",
    "\n",
    "valores_n = {\n",
    "    \"Lyman\": 1,\n",
    "    \"Balmer\": 2,\n",
    "    \"Paschen\": 3,\n",
    "    \"Brackett\": 4,\n",
    "    \"Pfund\": 5,\n",
    "    \"Humphreys\": 6,\n",
    "}\n",
    "\n",
    "if nombre_seria in valores_n:\n",
    "    n_base = valores_n[nombre_seria]\n",
    "else:\n",
    "    raise ValueError(f\"Nombre de serie no válido. Use {sorted(valores_n.keys())}.\")\n",
    "\n",
    "\n",
    "\n",
    "series = series_espectrales(n_base, n_max)\n",
    "print(f\"Serie de {nombre_seria}\")\n",
    "print(f\"\\nLongitudes de onda permitidas para las transiciones entre los primeros {n_max} niveles del átomo de Hidogeno:\")\n",
    "print(\"-------------------------------------------------------------\")\n",
    "print(\"Transición (n1 -> n2) \\t| Longitud de onda (m)\")\n",
    "for (n1, n2), lambda_permitida in series.items():\n",
    "    print(f\"{n2} -> {n1} \\t\\t\\t {lambda_permitida*m2nm:.2f} nm\")\n"
   ]
  }
 ],
 "metadata": {
  "kernelspec": {
   "display_name": "Python 3",
   "language": "python",
   "name": "python3"
  },
  "language_info": {
   "codemirror_mode": {
    "name": "ipython",
    "version": 3
   },
   "file_extension": ".py",
   "mimetype": "text/x-python",
   "name": "python",
   "nbconvert_exporter": "python",
   "pygments_lexer": "ipython3",
   "version": "3.12.6"
  }
 },
 "nbformat": 4,
 "nbformat_minor": 5
}
