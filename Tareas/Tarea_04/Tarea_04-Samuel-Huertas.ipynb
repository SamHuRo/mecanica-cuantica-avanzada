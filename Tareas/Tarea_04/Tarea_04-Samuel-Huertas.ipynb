{
 "cells": [
  {
   "cell_type": "markdown",
   "id": "dee2f665",
   "metadata": {},
   "source": [
    "---\n",
    "<center>\n",
    "\n",
    "  # **Tarea 04**\n",
    "\n",
    "**Realizado Por:**\n",
    "\n",
    "   Samuel Huertas Rojas\n",
    "\n",
    "---\n",
    "</center>"
   ]
  },
  {
   "cell_type": "markdown",
   "id": "a1ccf5f7",
   "metadata": {},
   "source": []
  },
  {
   "cell_type": "code",
   "execution_count": null,
   "id": "4f3a36a6",
   "metadata": {},
   "outputs": [],
   "source": []
  },
  {
   "cell_type": "code",
   "execution_count": null,
   "id": "bf4848bd",
   "metadata": {},
   "outputs": [],
   "source": []
  },
  {
   "cell_type": "code",
   "execution_count": null,
   "id": "e2e693fc",
   "metadata": {},
   "outputs": [],
   "source": []
  }
 ],
 "metadata": {
  "language_info": {
   "name": "python"
  }
 },
 "nbformat": 4,
 "nbformat_minor": 5
}
