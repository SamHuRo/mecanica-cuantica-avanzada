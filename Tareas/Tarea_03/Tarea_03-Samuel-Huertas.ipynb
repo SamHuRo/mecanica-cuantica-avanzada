{
 "cells": [
  {
   "cell_type": "markdown",
   "id": "c0154eec",
   "metadata": {},
   "source": [
    "---\n",
    "<center>\n",
    "\n",
    "  # **Tarea 03**\n",
    "\n",
    "**Realizado Por:**\n",
    "\n",
    "   Samuel Huertas Rojas\n",
    "\n",
    "---\n",
    "</center>"
   ]
  },
  {
   "cell_type": "code",
   "execution_count": 9,
   "id": "ab5051da",
   "metadata": {},
   "outputs": [],
   "source": [
    "import numpy as np\n",
    "import matplotlib.pyplot as plt\n",
    "from matplotlib.animation import FuncAnimation, PillowWriter\n",
    "from scipy.integrate import quad\n"
   ]
  },
  {
   "cell_type": "code",
   "execution_count": 10,
   "id": "ac19374b",
   "metadata": {},
   "outputs": [],
   "source": [
    "def animar_esquema(\n",
    "        numero_pasos: int, \n",
    "        matriz_video: np.ndarray,\n",
    "        filename: str,\n",
    "):\n",
    "    \"\"\"\n",
    "    Genera y guarda una animación de la evolución de V usando esquema_prog_prog.\n",
    "\n",
    "    Parámetros\n",
    "    ----------\n",
    "    numero_pasos : int\n",
    "        Número de pasos de tiempo.\n",
    "    matriz_video : np.ndarray\n",
    "        Matriz que contiene las soluciones en cada paso de tiempo.\n",
    "    filename : str\n",
    "        Nombre del archivo de salida (GIF).\n",
    "    \"\"\"\n",
    "    # Matriz para guardar los resultados\n",
    "    V = matriz_video\n",
    "\n",
    "    # --- Animación ---\n",
    "    fig, ax = plt.subplots()\n",
    "    (line,) = ax.plot(V[0, :], lw=2)\n",
    "    ax.set_ylim(np.min(V), np.max(V))\n",
    "    ax.grid(True)\n",
    "\n",
    "    def update(frame):\n",
    "        line.set_ydata(V[frame, :])\n",
    "        return (line,)\n",
    "\n",
    "    ani = FuncAnimation(fig, update, frames=range(numero_pasos + 1), interval=100, blit=True)\n",
    "\n",
    "    # Guardar como GIF\n",
    "    gif_name = filename + \".gif\"\n",
    "    ani.save(gif_name, writer=PillowWriter(fps=10))\n",
    "    plt.close(fig)\n",
    "    print(f\"✅ Animación guardada en {filename}\")\n",
    "\n",
    "    return ani"
   ]
  },
  {
   "cell_type": "markdown",
   "id": "da6e6875",
   "metadata": {},
   "source": [
    "# 1."
   ]
  },
  {
   "attachments": {
    "image.png": {
     "image/png": "[encoded data removed]"
    }
   },
   "cell_type": "markdown",
   "id": "aeef31fd",
   "metadata": {},
   "source": [
    "![image.png](attachment:image.png)"
   ]
  },
  {
   "cell_type": "code",
   "execution_count": 11,
   "id": "d843c1ea",
   "metadata": {},
   "outputs": [],
   "source": [
    "# Constante hbar\n",
    "#hbar = 1.0545718e-34  # J·s\n",
    "hbar = 1\n",
    "\n",
    "# Definición de los parámetros del paquete de ondas\n",
    "p0 = 8\n",
    "x0 = -18\n",
    "sigma = 0.5\n",
    "\n",
    "# Masa de la particula\n",
    "m = 1\n",
    "\n",
    "# Numero de pasos de tiempo y de espacio\n",
    "N = 200\n",
    "\n",
    "# Variable espacial\n",
    "longirud_intervalo = 20\n",
    "x_prima = np.linspace(-longirud_intervalo, longirud_intervalo, N)"
   ]
  },
  {
   "cell_type": "markdown",
   "id": "47bdf503",
   "metadata": {},
   "source": [
    "Tenemos que la E.D para una particula libre está dada por:\n",
    "\n",
    "<center>\n",
    "\n",
    "$\\frac{\\partial^2 \\psi}{\\partial x^2} + \\frac{2m}{\\hbar^2} E = 0 $\n",
    "\n",
    "</center>"
   ]
  },
  {
   "cell_type": "markdown",
   "id": "ddcd283a",
   "metadata": {},
   "source": [
    "La evolución temporal va a estar dada por: \n",
    "\n",
    "<center>\n",
    "\n",
    "$ \\ket{\\psi(t)} = e^{-i\\hat{H}(t-t_0)/\\hbar} \\ket{\\psi_0}$\n",
    "\n",
    "</center>"
   ]
  },
  {
   "cell_type": "markdown",
   "id": "62e14e33",
   "metadata": {},
   "source": [
    "Desarrollando el Hamiltoniano en sus autofunciones $\\hat{H} \\ket{\\varphi} = E_n \\ket{\\varphi_n}  $"
   ]
  },
  {
   "cell_type": "markdown",
   "id": "2c3dcfbf",
   "metadata": {},
   "source": [
    "Con esto tenemos que el operador es:\n",
    "\n",
    "<center>\n",
    "\n",
    "$u(t,t_0) = \\sum_n \\ket{\\varphi_n}\\bra{\\varphi_n} e^{-iE_n (t-t_0)/\\hbar}   $\n",
    "\n",
    "</center>\n",
    "\n",
    "Donde $p= \\pm \\sqrt{2mE}$. Encontrando las autofunciones del momento se puede calcular la propagación del paquete de ondas, posteriormente se multiplica por la condición inicial $\\psi(x',0)$ y se integra con respecto a $x'$"
   ]
  },
  {
   "cell_type": "markdown",
   "id": "40ee6b4f",
   "metadata": {},
   "source": [
    "Para una particula libre el propagador va a ser:\n",
    "\n",
    "<center>\n",
    "\n",
    "$u(x,t,x',t') = (\\frac{m}{2 \\pi \\hbar it})^{1/2} e^{im(x-x')^2/2\\hbar(t-t_0)} $\n",
    "\n",
    "</center>\n",
    "\n",
    "En forma general el propagador queda de la forma:\n",
    "\n",
    "<center>\n",
    "\n",
    "$u(x,t,x',t') = \\int_{-\\infty}^{\\infty} \\braket{x|\\varphi}\\braket{\\varphi|x} e^{-iE_n(t-t_0)/\\hbar} d\\varphi $\n",
    "\n",
    "</center>\n",
    "\n",
    "En el caso del momento:\n",
    "\n",
    "<center>\n",
    "\n",
    "$u(x,t,x',t') = \\int_{-\\infty}^{\\infty} \\braket{x|p}\\braket{p|x} e^{-ip^2(t-t_0)/2m\\hbar} dp$\n",
    "\n",
    "</center>\n"
   ]
  },
  {
   "cell_type": "markdown",
   "id": "8e126313",
   "metadata": {},
   "source": [
    "Lo primero que hay que realizar es la definición del paquete de ondas. Se va a definir el paquete de ondas como una gaussiana, la cual va a tener la siguiente expresión matemática:\n",
    "\n",
    "Paquete de ondas: $A e^{-\\frac{(x- \\mu)^{2}}{2\\sigma^2}}$\n",
    "\n",
    "En donde: \n",
    "\n",
    "* $A$: es el valor más alto del paquete de ondas.\n",
    "* $\\mu$: posición central del paquete de ondas, donde se ubica el centro del paquete de ondas.\n",
    "* $\\sigma$: que tan ancho es el paquete de ondas. "
   ]
  },
  {
   "cell_type": "markdown",
   "id": "51ac8afa",
   "metadata": {},
   "source": [
    "Pauqete de ondas que este localizado en $x_0$ con un momento inicial $p_0$, la expresión matemática va a estar dada por:\n",
    "\n",
    "<center>\n",
    "\n",
    "$\\frac{1}{\\sqrt{2 \\pi}\\sigma} e^{-\\frac{(x-x_0)^2}{2\\sigma^2}} e^{i p_0x/\\hbar}   $\n",
    "\n",
    "</center>"
   ]
  },
  {
   "cell_type": "code",
   "execution_count": 12,
   "id": "9a2d90d7",
   "metadata": {},
   "outputs": [],
   "source": [
    "def propagador(x, t, x_prima, t_prima, m, hbar):\n",
    "    \"\"\"\n",
    "    Calcula el propagador cuántico para una partícula libre.\n",
    "    \n",
    "    Parámetros:\n",
    "    -----------\n",
    "    x : float\n",
    "        Posición final\n",
    "    t : float\n",
    "        Tiempo final\n",
    "    x_prima : float\n",
    "        Posición inicial\n",
    "    t_prima : float\n",
    "        Tiempo inicial (t_0)\n",
    "    m : float\n",
    "        Masa de la partícula\n",
    "    hbar : float\n",
    "        Constante de Planck reducida (ℏ)\n",
    "    \n",
    "    Retorna:\n",
    "    --------\n",
    "    complex : Valor del propagador u(x, t, x', t')\n",
    "    \"\"\"\n",
    "    \n",
    "    # Diferencia temporal\n",
    "    dt = t - t_prima\n",
    "    \n",
    "    if dt <= 0:\n",
    "        raise ValueError(\"t debe ser mayor que t_prima\")\n",
    "    \n",
    "    # Diferencia espacial\n",
    "    dx = x - x_prima\n",
    "    \n",
    "    # Factor de prefactor\n",
    "    prefactor = (m / (2 * np.pi * hbar * 1j * dt))**(1/2)\n",
    "    \n",
    "    # Exponente complejo\n",
    "    exponente = 1j * m * dx**2 / (2 * hbar * dt)\n",
    "    \n",
    "    # Propagador completo\n",
    "    u = prefactor * np.exp(exponente)\n",
    "    \n",
    "    return u\n",
    "\n",
    "\n",
    "def psi_inicial(x_prima, x0=0, sigma=1, k0=0):\n",
    "    \"\"\"\n",
    "    Paquete de ondas gaussiano inicial.\n",
    "    \n",
    "    Parámetros:\n",
    "    -----------\n",
    "    x_prima : float o array\n",
    "        Posición\n",
    "    x0 : float\n",
    "        Posición central del paquete\n",
    "    sigma : float\n",
    "        Ancho del paquete\n",
    "    k0 : float\n",
    "        Momento inicial (en unidades de hbar)\n",
    "    \n",
    "    Retorna:\n",
    "    --------\n",
    "    complex : ψ(x', 0)\n",
    "    \"\"\"\n",
    "    normalizacion = 1/(np.sqrt(2 * np.pi) * sigma)\n",
    "    gaussian = np.exp(-(x_prima - x0)**2 / (2 * sigma**2))\n",
    "    fase = np.exp(1j * k0 * x_prima/hbar)\n",
    "    \n",
    "    return normalizacion * gaussian * fase"
   ]
  },
  {
   "cell_type": "code",
   "execution_count": 13,
   "id": "9cbff92b",
   "metadata": {},
   "outputs": [
    {
     "data": {
      "image/png": "[encoded data removed]",
      "text/plain": [
       "<Figure size 640x480 with 1 Axes>"
      ]
     },
     "metadata": {},
     "output_type": "display_data"
    }
   ],
   "source": [
    "paquete_onda = psi_inicial(x_prima, x0,  sigma, p0)\n",
    "\n",
    "plt.plot(x_prima, np.abs(paquete_onda))\n",
    "plt.grid()\n",
    "plt.show()"
   ]
  },
  {
   "cell_type": "markdown",
   "id": "a67b0cd1",
   "metadata": {},
   "source": [
    "Una vez definido el paquete de ondas y el propagador lo único que falta por realiar es la siguiente integral con respecto a $x'$\n",
    "\n",
    "<center>\n",
    "\n",
    "$ \\psi(x,t) = \\int_{-\\infty}^{\\infty} u(x,t,x',0)\\psi(x',0) dx' $\n",
    "\n",
    "</center>"
   ]
  },
  {
   "cell_type": "code",
   "execution_count": 14,
   "id": "6c63ec89",
   "metadata": {},
   "outputs": [],
   "source": [
    "def evolucion_temporal(x, t, m, hbar, x0=0, sigma=1, k0=0, x_limits=(-50, 50)):\n",
    "    \"\"\"\n",
    "    Calcula ψ(x, t) usando la integral del propagador.\n",
    "    \n",
    "    ψ(x, t) = ∫ u(x, t, x', 0) ψ(x', 0) dx'\n",
    "    \n",
    "    Parámetros:\n",
    "    -----------\n",
    "    x : float\n",
    "        Posición donde evaluar ψ(x, t)\n",
    "    t : float\n",
    "        Tiempo\n",
    "    m : float\n",
    "        Masa de la partícula\n",
    "    hbar : float\n",
    "        Constante de Planck reducida\n",
    "    x0 : float\n",
    "        Posición central inicial del paquete\n",
    "    sigma : float\n",
    "        Ancho inicial del paquete\n",
    "    k0 : float\n",
    "        Momento inicial\n",
    "    x_limits : tuple\n",
    "        Límites de integración\n",
    "    \n",
    "    Retorna:\n",
    "    --------\n",
    "    complex : ψ(x, t)\n",
    "    \"\"\"\n",
    "    \n",
    "    def integrando_real(x_prima):\n",
    "        prop = propagador(x, t, x_prima, 0, m, hbar)\n",
    "        psi_0 = psi_inicial(x_prima, x0, sigma, k0)\n",
    "        resultado = prop * psi_0\n",
    "        return np.real(resultado)\n",
    "    \n",
    "    def integrando_imag(x_prima):\n",
    "        prop = propagador(x, t, x_prima, 0, m, hbar)\n",
    "        psi_0 = psi_inicial(x_prima, x0, sigma, k0)\n",
    "        resultado = prop * psi_0\n",
    "        return np.imag(resultado)\n",
    "    \n",
    "    # Integración numérica de partes real e imaginaria\n",
    "    real_part, _ = quad(integrando_real, x_limits[0], x_limits[1], limit=100)\n",
    "    imag_part, _ = quad(integrando_imag, x_limits[0], x_limits[1], limit=100)\n",
    "    \n",
    "    return real_part + 1j * imag_part"
   ]
  },
  {
   "cell_type": "code",
   "execution_count": 41,
   "id": "0008d46b",
   "metadata": {},
   "outputs": [],
   "source": [
    "x = np.linspace(-longirud_intervalo, 4*longirud_intervalo, N)\n",
    "tiempo = np.linspace(1, 8, N)\n",
    "#tiempo = [0, 5, 10, 20]\n",
    "\n",
    "# Arreglo para guardar la evolución\n",
    "evolucion = np.zeros((len(tiempo), len(x)))"
   ]
  },
  {
   "cell_type": "code",
   "execution_count": 42,
   "id": "acadbbb4",
   "metadata": {},
   "outputs": [],
   "source": [
    "for i, t in enumerate(tiempo):\n",
    "    pos = i\n",
    "    # Calcular ψ(x, t) para cada posición\n",
    "    psi_t = []\n",
    "    for i in x:\n",
    "        if t == 0:\n",
    "            psi = psi_inicial(i, x0, sigma, p0)\n",
    "        else:\n",
    "            psi = evolucion_temporal(i, t, m, hbar, x0, sigma, p0)\n",
    "        psi_t.append(psi)\n",
    "        \n",
    "    psi_t = np.array(psi_t)\n",
    "    densidad_prob = np.abs(psi_t)**2\n",
    "    evolucion[pos, :] = densidad_prob\n",
    "    "
   ]
  },
  {
   "cell_type": "code",
   "execution_count": 43,
   "id": "0b2166a4",
   "metadata": {},
   "outputs": [
    {
     "name": "stdout",
     "output_type": "stream",
     "text": [
      "✅ Animación guardada en evolucion_paquete_onda_libre\n"
     ]
    },
    {
     "data": {
      "text/plain": [
       "<matplotlib.animation.FuncAnimation at 0x28dff07d3d0>"
      ]
     },
     "execution_count": 43,
     "metadata": {},
     "output_type": "execute_result"
    }
   ],
   "source": [
    "# Animar y guardar el resultado\n",
    "animar_esquema(len(tiempo)-1, evolucion, \"evolucion_paquete_onda_libre\")"
   ]
  },
  {
   "cell_type": "markdown",
   "id": "0ca49cf5",
   "metadata": {},
   "source": [
    "# 2."
   ]
  },
  {
   "attachments": {
    "image.png": {
     "image/png": "[encoded data removed]"
    }
   },
   "cell_type": "markdown",
   "id": "b55d62b3",
   "metadata": {},
   "source": [
    "![image.png](attachment:image.png)"
   ]
  },
  {
   "cell_type": "markdown",
   "id": "323b9086",
   "metadata": {},
   "source": [
    "Las funciones DVR propuestas son: \n",
    "\n",
    "<center>\n",
    "\n",
    "$f_n(R) = \\frac{2}{\\sqrt{L(N_f +1)}} \\sum_{k=1}^{N_f} \\sin(\\frac{ k \\pi (R - R_0)}{L}) \\sin(\\frac{k n \\pi}{N_f + 1}) $\n",
    "\n",
    "</center>"
   ]
  },
  {
   "cell_type": "markdown",
   "id": "5379173f",
   "metadata": {},
   "source": [
    "Donde: \n",
    "\n",
    "* $N_f$ es el numero de puntos DVR.\n",
    "* $R_n = \\frac{nL}{N_f +1} + R_0$.\n",
    "* $L$ es el tamaño del intervalo.\n",
    "\n",
    "\n",
    "Con lo que la función $\\psi(R) = \\sum_n c_n f_n(R)$"
   ]
  },
  {
   "cell_type": "markdown",
   "id": "d86fd564",
   "metadata": {},
   "source": [
    "Tenemos que para una partícula cuántica en un pozo de paredes infinitas:\n",
    "\n",
    "* $E_n = \\frac{n^2 \\pi^2 \\hbar^2}{2 m L^2} $\n",
    "* $ \\varphi_n = \\sqrt{\\frac{2}{L}} \\sin(n \\pi x / L)  $"
   ]
  },
  {
   "cell_type": "code",
   "execution_count": null,
   "id": "0e20d742",
   "metadata": {},
   "outputs": [],
   "source": [
    "r0 = 0                          # Valor inicial de r\n",
    "rmax = 20                       # Valor máximo de r\n",
    "L = rmax - r0                   # Longitud del intervalo\n",
    "Ndvr = 200                      # Número de puntos de la función DVR\n",
    "mu = 1                          # Masa reducida (en unidades atómicas)"
   ]
  },
  {
   "cell_type": "code",
   "execution_count": null,
   "id": "fb31706b",
   "metadata": {},
   "outputs": [],
   "source": [
    "# Definición de las funciones DVR\n",
    "def dvr_function(R, Nf, L, R0, n):\n",
    "    \"\"\"\n",
    "    Calcula la función fn(R) según la fórmula DVR.\n",
    "    \n",
    "    Parámetros:\n",
    "    -----------\n",
    "    R : float o array\n",
    "        Valor(es) de la coordenada R\n",
    "    Nf : int\n",
    "        Número de puntos de la cuadrícula (grid points)\n",
    "    L : float\n",
    "        Longitud del dominio\n",
    "    R0 : float\n",
    "        Punto inicial del dominio\n",
    "        \n",
    "    Retorna:\n",
    "    --------\n",
    "    float o array\n",
    "        Valor de la función fn(R)\n",
    "    \"\"\"\n",
    "    # Factor de normalización\n",
    "    factor = 2 / np.sqrt(L * (Nf + 1))\n",
    "    \n",
    "    # Suma sobre k desde 1 hasta Nf\n",
    "    suma = 0\n",
    "    for k in range(1, Nf + 1):\n",
    "        # Primer término: sin(kπ(R-R0)/L)\n",
    "        primer_sin = np.sin(k * np.pi * (R - R0) / L)\n",
    "        \n",
    "        # Segundo término: sin(kπn/(Nf+1))\n",
    "        segundo_sin = np.sin(k * np.pi * n / (Nf + 1))\n",
    "        \n",
    "        suma += primer_sin * segundo_sin\n",
    "    \n",
    "    return factor * suma"
   ]
  },
  {
   "cell_type": "code",
   "execution_count": null,
   "id": "32a19ccb",
   "metadata": {},
   "outputs": [
    {
     "name": "stdout",
     "output_type": "stream",
     "text": [
      "fn(2) = 3.1107623040580616\n"
     ]
    },
    {
     "data": {
      "image/png": "[encoded data removed]",
      "text/plain": [
       "<Figure size 1000x600 with 1 Axes>"
      ]
     },
     "metadata": {},
     "output_type": "display_data"
    }
   ],
   "source": [
    "# Parámetros de ejemplo\n",
    "n = 20 # Índice n (necesitas definir este valor)\n",
    "    \n",
    "# Evaluar en un punto\n",
    "R_punto = 2\n",
    "resultado = dvr_function(R_punto, Ndvr, L, r0, n)\n",
    "print(f\"fn({R_punto}) = {resultado}\")\n",
    "    \n",
    "# Evaluar en un rango de valorer\n",
    "R_valores = np.linspace(r0, rmax, Ndvr)\n",
    "resultados = [dvr_function(R, Ndvr, L, r0, n) for R in R_valores]\n",
    "    \n",
    "# Graficar (opcional)\n",
    "plt.figure(figsize=(10, 6))\n",
    "plt.plot(R_valores, resultados)\n",
    "plt.xlabel('R')\n",
    "plt.ylabel('fn(R)')\n",
    "plt.title(f'Función DVR: fn(R) con Nf={Ndvr}, L={L}, R0={r0}, n={n}')\n",
    "plt.grid(True)\n",
    "plt.show()"
   ]
  },
  {
   "cell_type": "code",
   "execution_count": null,
   "id": "65a71f8e",
   "metadata": {},
   "outputs": [
    {
     "name": "stdout",
     "output_type": "stream",
     "text": [
      "El valor de la integral es: 3.039452061507717\n"
     ]
    }
   ],
   "source": [
    "Rn = n*L/(Ndvr + 1) + r0\n",
    "\n",
    "# Mirar si las funciones DVR están normalizadas\n",
    "integral = 0\n",
    "for i in range(r0, rmax):\n",
    "    integral += integral + dvr_function(R=i, Nf=Ndvr, L=L, R0=r0, n=1) * dvr_function(R=i, Nf=Ndvr, L=L, R0=r0, n=1)\n",
    "\n",
    "print(f\"El valor de la integral es: {integral}\")"
   ]
  },
  {
   "cell_type": "markdown",
   "id": "e2acc7dd",
   "metadata": {},
   "source": [
    "Tenemos que las funcionees DVR cumplen con:\n",
    "\n",
    "\n",
    "<center>\n",
    "\n",
    "$\\int_{-\\infty}^{\\infty} f_i \\frac{d^2 f_j}{dR^2} dR = \\frac{2 \\pi^2}{(N_f + 1) L^2} \\sum_{k=1}^{N_f} k^2 \\sin(\\frac{i k \\pi}{N_f +1})\\sin(\\frac{j k \\pi}{N_f +1}) $\n",
    "\n",
    "</center>\n",
    "\n",
    "Con la anterior propiedad de las funciones DVR se puede calcular la matriz del Hamiltoniano como: \n",
    "\n",
    "<center>\n",
    "\n",
    "$\\braket{f_i | \\hat{H} | f_j}  = -\\frac{\\hbar^2}{2m} \\braket{f_i | \\frac{d^2 f_j}{dx^2}} + \\delta_{ij} V(R_i)$\n",
    "\n",
    "</center>"
   ]
  },
  {
   "cell_type": "markdown",
   "id": "bd54c865",
   "metadata": {},
   "source": [
    "### Resultados analíticos del pozo de paredes infinitas"
   ]
  },
  {
   "cell_type": "code",
   "execution_count": null,
   "id": "7e241de4",
   "metadata": {},
   "outputs": [],
   "source": []
  },
  {
   "cell_type": "markdown",
   "id": "402389e3",
   "metadata": {},
   "source": [
    "# 3."
   ]
  },
  {
   "attachments": {
    "image.png": {
     "image/png": "[encoded data removed]"
    }
   },
   "cell_type": "markdown",
   "id": "56e21b5a",
   "metadata": {},
   "source": [
    "![image.png](attachment:image.png)"
   ]
  },
  {
   "cell_type": "markdown",
   "id": "9ef09fdf",
   "metadata": {},
   "source": []
  },
  {
   "cell_type": "code",
   "execution_count": null,
   "id": "667f873a",
   "metadata": {},
   "outputs": [],
   "source": []
  },
  {
   "cell_type": "markdown",
   "id": "7608f97e",
   "metadata": {},
   "source": [
    "# 4."
   ]
  },
  {
   "attachments": {
    "image.png": {
     "image/png": "[encoded data removed]"
    }
   },
   "cell_type": "markdown",
   "id": "ab4f33a7",
   "metadata": {},
   "source": [
    "![image.png](attachment:image.png)"
   ]
  },
  {
   "cell_type": "code",
   "execution_count": null,
   "id": "e9b4d6a3",
   "metadata": {},
   "outputs": [],
   "source": []
  }
 ],
 "metadata": {
  "kernelspec": {
   "display_name": "Python 3",
   "language": "python",
   "name": "python3"
  },
  "language_info": {
   "codemirror_mode": {
    "name": "ipython",
    "version": 3
   },
   "file_extension": ".py",
   "mimetype": "text/x-python",
   "name": "python",
   "nbconvert_exporter": "python",
   "pygments_lexer": "ipython3",
   "version": "3.12.6"
  }
 },
 "nbformat": 4,
 "nbformat_minor": 5
}
